{
 "cells": [
  {
   "cell_type": "markdown",
   "metadata": {},
   "source": [
    "# Loading Datasets"
   ]
  },
  {
   "cell_type": "code",
   "execution_count": 1,
   "metadata": {
    "ExecuteTime": {
     "end_time": "2021-11-23T06:47:07.768825Z",
     "start_time": "2021-11-23T06:47:07.763005Z"
    }
   },
   "outputs": [],
   "source": [
    "import json\n",
    "import random\n",
    "import re\n",
    "from tqdm import tqdm\n",
    "\n",
    "\n",
    "def print_in_color(s, cint=31, end='\\n'):\n",
    "    print('\\x1b[{}m{}\\x1b[0m'.format(cint, s), end=end)"
   ]
  },
  {
   "cell_type": "code",
   "execution_count": 2,
   "metadata": {
    "ExecuteTime": {
     "end_time": "2021-11-23T06:47:08.329620Z",
     "start_time": "2021-11-23T06:47:07.770457Z"
    }
   },
   "outputs": [
    {
     "name": "stdout",
     "output_type": "stream",
     "text": [
      "train 3816\n",
      "val 1272\n",
      "test 1274\n"
     ]
    }
   ],
   "source": [
    "datasets = []\n",
    "for t in ['train', 'val', 'test']:\n",
    "    with open('../../dataset/Weibo/raw/post/{}.json'.format(t), 'r') as f:\n",
    "        pieces = json.load(f)\n",
    "        print(t, len(pieces))\n",
    "        datasets.append(pieces)"
   ]
  },
  {
   "cell_type": "markdown",
   "metadata": {},
   "source": [
    "# Example"
   ]
  },
  {
   "cell_type": "code",
   "execution_count": 3,
   "metadata": {
    "ExecuteTime": {
     "end_time": "2021-11-23T06:47:09.556125Z",
     "start_time": "2021-11-23T06:47:08.331413Z"
    }
   },
   "outputs": [],
   "source": [
    "from LAC import LAC\n",
    "\n",
    "lac = LAC(mode='rank')"
   ]
  },
  {
   "cell_type": "code",
   "execution_count": 4,
   "metadata": {
    "ExecuteTime": {
     "end_time": "2021-11-23T06:47:09.573700Z",
     "start_time": "2021-11-23T06:47:09.557788Z"
    }
   },
   "outputs": [
    {
     "data": {
      "text/plain": [
       "(29809, ['!', '！', '?', '？', ',', '，', '.', '。', '[', '【'])"
      ]
     },
     "execution_count": 4,
     "metadata": {},
     "output_type": "execute_result"
    }
   ],
   "source": [
    "with open('./resources/pattern_words_Chinese.txt', 'r') as f:\n",
    "    pattern_words = f.readlines()\n",
    "    pattern_words = [l.strip() for l in pattern_words]\n",
    "len(pattern_words), pattern_words[:10]"
   ]
  },
  {
   "cell_type": "code",
   "execution_count": 5,
   "metadata": {
    "ExecuteTime": {
     "end_time": "2021-11-23T06:47:09.580630Z",
     "start_time": "2021-11-23T06:47:09.575114Z"
    }
   },
   "outputs": [],
   "source": [
    "def extract_chinese(txt):\n",
    "    pattern = re.compile(\n",
    "        \"[\\u3002\\uff1b\\uff0c\\uff1a\\u201c\\u201d\\uff08\\uff09\\u3001\\uff1f\\u300a\\u300b\\u4e00-\\u9fa5]\")\n",
    "    return \"\".join(pattern.findall(txt))\n",
    "\n",
    "\n",
    "def analysis_a_result(res):\n",
    "    print(''.join(res[0]), '\\n')\n",
    "\n",
    "    for i, tag in enumerate(res[1]):\n",
    "        word = res[0][i]\n",
    "        if tag in ['PER', 'LOC', 'ORG', 'TIME']:\n",
    "            # red for entities\n",
    "            print_in_color('{}'.format(word), end=' ')\n",
    "        elif word in pattern_words:\n",
    "            # green for stylistic tokens\n",
    "            print_in_color('{}'.format(word), cint=32, end=' ')\n",
    "        else:\n",
    "            print('{}'.format(res[0][i]), end=' ')\n",
    "\n",
    "\n",
    "def handle_a_text(text):\n",
    "    try:\n",
    "        res = lac.run(text)\n",
    "    except:\n",
    "        res = lac.run(extract_chinese(text))\n",
    "\n",
    "    return res"
   ]
  },
  {
   "cell_type": "code",
   "execution_count": 12,
   "metadata": {
    "ExecuteTime": {
     "end_time": "2021-11-23T06:47:41.345402Z",
     "start_time": "2021-11-23T06:47:41.319999Z"
    }
   },
   "outputs": [
    {
     "name": "stdout",
     "output_type": "stream",
     "text": [
      "fake\n",
      "\n",
      "兄弟姐妹们，大兵求您帮忙，希望能尽自己一点微薄之力号召更多有爱的人❤️伸出您爱心之手寻找失踪孩子🙏 🙏 🙏 孩子在义乌被别人拐走—急找孩子，求转，求帮忙实验小学 寻人启事 13940292999。有线索酬金10万 帮忙扩散，今天上午一个三岁多小女孩在锦绣花园小区附近被人拐走了  \n",
      "\n",
      "兄弟姐妹们 \u001b[32m，\u001b[0m 大兵 求 您 帮忙 \u001b[32m，\u001b[0m \u001b[32m希望\u001b[0m 能 尽 自己 \u001b[32m一点\u001b[0m 微薄 之 力 号召 更多 有 爱的人 \u001b[31m❤️\u001b[0m 伸出 您 \u001b[32m爱心\u001b[0m 之 手 寻找 \u001b[32m失踪\u001b[0m 孩子🙏 🙏 🙏  孩子 在 \u001b[31m义乌\u001b[0m 被 别人 拐走 — 急 找 孩子 \u001b[32m，\u001b[0m 求 转 \u001b[32m，\u001b[0m 求 帮忙 \u001b[31m实验小学\u001b[0m   寻人启事   13940292999。 有线索 酬金 10万   帮忙 扩散 \u001b[32m，\u001b[0m \u001b[31m今天\u001b[0m \u001b[31m上午\u001b[0m 一个三岁 多 小女孩 在 \u001b[31m锦绣花园小区\u001b[0m 附近 被 人 拐走 了   "
     ]
    }
   ],
   "source": [
    "t = random.sample(random.sample(datasets, 1)[0], 1)[0]\n",
    "print(t['label'])\n",
    "print()\n",
    "\n",
    "analysis_a_result(lac.run(t['content']))"
   ]
  },
  {
   "cell_type": "markdown",
   "metadata": {},
   "source": [
    "# Execute"
   ]
  },
  {
   "cell_type": "code",
   "execution_count": 8,
   "metadata": {
    "ExecuteTime": {
     "end_time": "2021-11-23T06:47:30.506110Z",
     "start_time": "2021-11-23T06:47:09.626227Z"
    }
   },
   "outputs": [
    {
     "name": "stderr",
     "output_type": "stream",
     "text": [
      " 88%|████████▊ | 3374/3816 [00:10<00:01, 370.95it/s]"
     ]
    },
    {
     "name": "stdout",
     "output_type": "stream",
     "text": [
      "{'content': 'Dream Room  🌟', 'label': 'real', 'words': []}\n"
     ]
    },
    {
     "name": "stderr",
     "output_type": "stream",
     "text": [
      "100%|██████████| 3816/3816 [00:11<00:00, 322.38it/s]\n",
      "100%|██████████| 1272/1272 [00:04<00:00, 306.83it/s]\n",
      "100%|██████████| 1274/1274 [00:04<00:00, 260.96it/s]\n"
     ]
    }
   ],
   "source": [
    "pattern_words = set(pattern_words)\n",
    "for pieces in datasets:\n",
    "    for p in tqdm(pieces):\n",
    "        res = handle_a_text(p['content'])\n",
    "        words = []\n",
    "\n",
    "        try:\n",
    "            for i, tag in enumerate(res[1]):\n",
    "                word = res[0][i]\n",
    "                if tag in ['PER', 'LOC', 'ORG', 'TIME']:\n",
    "                    # entity\n",
    "                    t = 'ENTITY'\n",
    "                elif word in pattern_words:\n",
    "                    # pattern\n",
    "                    t = 'PATTERN'\n",
    "                else:\n",
    "                    t = 'OTHERS'\n",
    "\n",
    "                words.append((word, t))\n",
    "        except:\n",
    "            pass\n",
    "\n",
    "        p['words'] = words\n",
    "\n",
    "        if len(p['words']) == 0:\n",
    "            print(p)"
   ]
  },
  {
   "cell_type": "code",
   "execution_count": 9,
   "metadata": {
    "ExecuteTime": {
     "end_time": "2021-11-23T06:47:31.803020Z",
     "start_time": "2021-11-23T06:47:30.507729Z"
    }
   },
   "outputs": [],
   "source": [
    "for i, t in enumerate(['train', 'val', 'test']):\n",
    "    with open('../../dataset/Weibo/raw/post/{}.json'.format(t), 'w') as f:\n",
    "        json.dump(datasets[i], f, indent=4, ensure_ascii=False)"
   ]
  },
  {
   "cell_type": "code",
   "execution_count": null,
   "metadata": {},
   "outputs": [],
   "source": []
  },
  {
   "cell_type": "code",
   "execution_count": null,
   "metadata": {},
   "outputs": [],
   "source": []
  },
  {
   "cell_type": "code",
   "execution_count": null,
   "metadata": {},
   "outputs": [],
   "source": []
  }
 ],
 "metadata": {
  "kernelspec": {
   "display_name": "Python 3",
   "language": "python",
   "name": "python3"
  },
  "language_info": {
   "codemirror_mode": {
    "name": "ipython",
    "version": 3
   },
   "file_extension": ".py",
   "mimetype": "text/x-python",
   "name": "python",
   "nbconvert_exporter": "python",
   "pygments_lexer": "ipython3",
   "version": "3.6.10"
  },
  "toc": {
   "base_numbering": 1,
   "nav_menu": {},
   "number_sections": true,
   "sideBar": true,
   "skip_h1_title": false,
   "title_cell": "Table of Contents",
   "title_sidebar": "Contents",
   "toc_cell": false,
   "toc_position": {},
   "toc_section_display": true,
   "toc_window_display": false
  }
 },
 "nbformat": 4,
 "nbformat_minor": 4
}
